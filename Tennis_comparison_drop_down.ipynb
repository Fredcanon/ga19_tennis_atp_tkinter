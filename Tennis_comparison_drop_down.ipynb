{
 "cells": [
  {
   "cell_type": "code",
   "execution_count": 11,
   "metadata": {},
   "outputs": [],
   "source": [
    "#loading in the calculated data .csv\n",
    "import pandas as pd\n",
    "\n",
    "df_tennis = pd.read_csv('Tennis_ranking2.csv')\n",
    "#df_tennis = df_tennis[['name','country','wins','loses','titles','finals_attended']]\n",
    "\n",
    "df_tennis2 = df_tennis[['name','country','hand','wins','loses','finals attended','titles']].T\n",
    "df_tennis2.reset_index(inplace=True)\n",
    "#.values makes it a list of lists\n",
    "df_tennis2 = df_tennis2[[0, \"index\",1]].values\n",
    "\n"
   ]
  },
  {
   "cell_type": "code",
   "execution_count": 13,
   "metadata": {
    "scrolled": true
   },
   "outputs": [
    {
     "name": "stdout",
     "output_type": "stream",
     "text": [
      "             index              85                 210\n",
      "0             name  Jerome Haehnel  Yoshihito Nishioka\n",
      "1          country             FRA                 JPN\n",
      "2             hand               R                   L\n",
      "3             wins               8                  67\n",
      "4            loses              18                  78\n",
      "5  finals attended               1                   2\n",
      "6           titles               1                   1\n"
     ]
    }
   ],
   "source": [
    "#create a drop down menu\n",
    "\n",
    "import tkinter as tk\n",
    "import random as rand\n",
    "#from tksheet import Sheet\n",
    "\n",
    "\n",
    "\n",
    "# ------------ functions --------- \n",
    "\n",
    "\n",
    "\n",
    "        \n",
    "def showdata():\n",
    "    global table\n",
    "\n",
    "    # destroy old frame with table\n",
    "    if table:\n",
    "        table.destroy()\n",
    "\n",
    "    # create new frame with table         \n",
    "    table = tk.Frame(frame_data)\n",
    "    table.grid(row=0, column=0)\n",
    "\n",
    "    # fill frame with table\n",
    "    row, column = df2.shape\n",
    "    for r in range(row):\n",
    "        for c in range(column):\n",
    "            e1 = tk.Entry(table)\n",
    "            e1.insert(1, df2.iloc[r, c])\n",
    "            e1.grid(row=r, column=c, padx=.2, pady=.2)\n",
    "            e1.config(state='disabled')\n",
    "            \n",
    "def on_click():\n",
    "    global df2\n",
    "\n",
    "    val = variable.get()\n",
    "    val2 = variable2.get()\n",
    "    df2 = df_tennis[(df_tennis['name'] == val) | (df_tennis['name'] == val2) ]  \n",
    "    \n",
    "    df2 = df2[['name','country','hand','wins','loses','finals attended','titles']].T\n",
    "    df2.reset_index(inplace=True)\n",
    "    #.values makes it a list of lists (array)\n",
    "    #df2 = df2[[0, \"index\",1]]\n",
    "    \n",
    "    print(df2)\n",
    "    showdata()\n",
    "\n",
    "# ------------ main program --------- \n",
    "\n",
    "frame_data = None\n",
    "\n",
    "#data for the table\n",
    "df = df_tennis\n",
    "\n",
    "# set the root for tkinter\n",
    "master = tk.Tk()\n",
    "\n",
    "#set the title and size of the window\n",
    "master.title('Tennis Player Comparison Tool')\n",
    "master.geometry(\"600x500\")\n",
    "\n",
    "#set the option menu for the player list\n",
    "values = df_tennis['name'].copy(deep=True)\n",
    "values2 = df_tennis['name'].copy(deep=True)\n",
    "#create a deep copy -> to save the underlying dfs in the ram\n",
    "\n",
    "variable = tk.StringVar()\n",
    "\n",
    "#create the first drop down menu\n",
    "\n",
    "variable.set(values[rand.randint(0, len(values))]) # default value\n",
    "\n",
    "w1 = tk.OptionMenu(master, variable, *values)\n",
    "w1.pack()\n",
    "w1.place(rely=0.1, relx=0.20)\n",
    "\n",
    "#create the second drop down menu\n",
    "variable2 = tk.StringVar()\n",
    "variable2.set(values[rand.randint(0, len(values))]) # default value\n",
    "\n",
    "w2 = tk.OptionMenu(master, variable2, *values2)\n",
    "w2.pack()\n",
    "w2.place(rely=0.1, relx=0.60)\n",
    "\n",
    "#create the buttons\n",
    "button1 = tk.Button(master, text=\"Show Player Stats\", fg=\"red\", command= on_click)\n",
    "button1.pack()\n",
    "button1.place(rely=0.2, relx=0.4)\n",
    "\n",
    "#button2 = tk.Button(master, text=\"Show Player 2 Stats\", fg=\"blue\", command= on_click)\n",
    "#button2.pack()\n",
    "#button2.place(rely=0.2, relx=0.60)\n",
    "\n",
    "#create the Exit quit() button\n",
    "button3 = tk.Button(master, text='Exit Program', command= master.destroy) #master.destroy crashes the program sometimes\n",
    "button3.pack(padx=5, pady=5)\n",
    "button3.config(width = 30, bg = 'WHITE')\n",
    "\n",
    "\n",
    "# frame for table and button \"Next Data\"\n",
    "frame_data = tk.Frame(master)\n",
    "frame_data.pack()\n",
    "\n",
    "# table with data - inside \"frame_data\" - without showing it\n",
    "table = tk.Frame(frame_data)\n",
    "#table.grid(row=0, column=0)\n",
    "\n",
    "tk.mainloop()"
   ]
  },
  {
   "cell_type": "code",
   "execution_count": 3,
   "metadata": {},
   "outputs": [
    {
     "name": "stdout",
     "output_type": "stream",
     "text": [
      "                  index             1176               1223\n",
      "0                  name  Thiago Monteiro  Hussain Al Ashwak\n",
      "1               country              BRA                KUW\n",
      "2                  wins               51                  2\n",
      "3                 loses               68                  3\n",
      "4     number_titles_won                0                  0\n",
      "5  number_finals_played                0                  0\n"
     ]
    }
   ],
   "source": [
    "print(df2)"
   ]
  },
  {
   "cell_type": "code",
   "execution_count": null,
   "metadata": {},
   "outputs": [],
   "source": []
  },
  {
   "cell_type": "code",
   "execution_count": 4,
   "metadata": {},
   "outputs": [],
   "source": []
  },
  {
   "cell_type": "code",
   "execution_count": null,
   "metadata": {},
   "outputs": [],
   "source": []
  },
  {
   "cell_type": "code",
   "execution_count": null,
   "metadata": {},
   "outputs": [],
   "source": []
  }
 ],
 "metadata": {
  "kernelspec": {
   "display_name": "Python 3",
   "language": "python",
   "name": "python3"
  },
  "language_info": {
   "codemirror_mode": {
    "name": "ipython",
    "version": 3
   },
   "file_extension": ".py",
   "mimetype": "text/x-python",
   "name": "python",
   "nbconvert_exporter": "python",
   "pygments_lexer": "ipython3",
   "version": "3.8.5"
  }
 },
 "nbformat": 4,
 "nbformat_minor": 4
}
